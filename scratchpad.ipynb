{
 "cells": [
  {
   "cell_type": "code",
   "execution_count": 6,
   "metadata": {},
   "outputs": [],
   "source": [
    "import matplotlib.pyplot as plt\n",
    "import numpy as np\n",
    "import pandas\n",
    "import geopandas as gpd\n",
    "import datetime as dt\n",
    "import time\n",
    "\n",
    "from shapely.geometry import MultiPolygon\n",
    "from test_data_2d import clokes, journeys, example_route, example_space, islas\n",
    "START, END = journeys['bc-tc']"
   ]
  },
  {
   "cell_type": "code",
   "execution_count": 11,
   "metadata": {},
   "outputs": [
    {
     "name": "stdout",
     "output_type": "stream",
     "text": [
      "{'dataset': {'barriers': 'clokes', 'origin': 'd', 'destination': 'f'}, 'logging': {'save_log': True, 'record_result': True, 'verbose': False}, 'visualisation': {'png': True, 'gif': False, 'short_gif': False, 'gif_zoom': 0.15, 'sol_txt': True}, 'validation': {'threshold': 1.5, 'no_intersect': True, 'invalidity_cost': 100, 'intersection_cost': 2}, 'defaults': {'ngen': 250, 'line_segments': 100, 'pop_size': 300, 'cxpb': 0.5, 'mutpb': 0.1, 'max_depth': 17, 'seed': 151, 'multiproc': 'imap', 'chunksize': 'None'}}\n"
     ]
    }
   ],
   "source": [
    "import yaml\n",
    "from pprint import pformat\n",
    "with open(\"config.yml\", \"r\") as cfg:\n",
    "    ml_config = yaml.load(cfg, Loader=yaml.FullLoader)\n",
    "    #print(type(config))\n",
    "#s = pformat(config, indent=4, depth=12)\n",
    "#print(yaml.dump(dict(config), indent=4))\n",
    "print(ml_config)"
   ]
  },
  {
   "cell_type": "code",
   "execution_count": 31,
   "metadata": {},
   "outputs": [
    {
     "ename": "ValueError",
     "evalue": "dictionary update sequence element #0 has length 3; 2 is required",
     "output_type": "error",
     "traceback": [
      "\u001b[0;31m---------------------------------------------------------------------------\u001b[0m",
      "\u001b[0;31mValueError\u001b[0m                                Traceback (most recent call last)",
      "Cell \u001b[0;32mIn [31], line 2\u001b[0m\n\u001b[1;32m      1\u001b[0m config \u001b[39m=\u001b[39m {}\n\u001b[0;32m----> 2\u001b[0m config\u001b[39m.\u001b[39;49mupdate(\u001b[39mlist\u001b[39;49m(ml_config\u001b[39m.\u001b[39;49mvalues()))\n\u001b[1;32m      4\u001b[0m \u001b[39m#l_config = {c.key():c.value() for c in ml_config.values()}\u001b[39;00m\n\u001b[1;32m      5\u001b[0m \u001b[39mprint\u001b[39m(Namespace(\u001b[39m*\u001b[39m\u001b[39m*\u001b[39mconfig))\n",
      "\u001b[0;31mValueError\u001b[0m: dictionary update sequence element #0 has length 3; 2 is required"
     ]
    }
   ],
   "source": [
    "config = {}\n",
    "config.update(list(ml_config.values()))\n",
    "    \n",
    "#l_config = {c.key():c.value() for c in ml_config.values()}\n",
    "print(Namespace(**config))"
   ]
  },
  {
   "cell_type": "code",
   "execution_count": 30,
   "metadata": {},
   "outputs": [
    {
     "data": {
      "text/plain": [
       "dict_values([{'barriers': 'clokes', 'origin': 'd', 'destination': 'f'}, {'save_log': True, 'record_result': True, 'verbose': False}, {'png': True, 'gif': False, 'short_gif': False, 'gif_zoom': 0.15, 'sol_txt': True}, {'threshold': 1.5, 'no_intersect': True, 'invalidity_cost': 100, 'intersection_cost': 2}, {'ngen': 250, 'line_segments': 100, 'pop_size': 300, 'cxpb': 0.5, 'mutpb': 0.1, 'max_depth': 17, 'seed': 151, 'multiproc': 'imap', 'chunksize': 'None'}])"
      ]
     },
     "execution_count": 30,
     "metadata": {},
     "output_type": "execute_result"
    }
   ],
   "source": [
    "ml_config.values()"
   ]
  },
  {
   "cell_type": "code",
   "execution_count": 22,
   "metadata": {},
   "outputs": [
    {
     "name": "stdout",
     "output_type": "stream",
     "text": [
      "<class 'argparse.Namespace'>\n"
     ]
    },
    {
     "ename": "TypeError",
     "evalue": "'NoneType' object is not callable",
     "output_type": "error",
     "traceback": [
      "\u001b[0;31m---------------------------------------------------------------------------\u001b[0m",
      "\u001b[0;31mTypeError\u001b[0m                                 Traceback (most recent call last)",
      "Cell \u001b[0;32mIn [22], line 7\u001b[0m\n\u001b[1;32m      5\u001b[0m ns\u001b[39m.\u001b[39msetting \u001b[39m=\u001b[39m \u001b[39m'\u001b[39m\u001b[39mset\u001b[39m\u001b[39m'\u001b[39m\n\u001b[1;32m      6\u001b[0m \u001b[39mprint\u001b[39m(\u001b[39mtype\u001b[39m(ns))\n\u001b[0;32m----> 7\u001b[0m nsd \u001b[39m=\u001b[39m \u001b[39mvars\u001b[39;49m(ns)\n\u001b[1;32m      8\u001b[0m \u001b[39mprint\u001b[39m(\u001b[39mtype\u001b[39m(nsd))\n\u001b[1;32m      9\u001b[0m nsd\u001b[39m.\u001b[39mupdate(config)\n",
      "\u001b[0;31mTypeError\u001b[0m: 'NoneType' object is not callable"
     ]
    }
   ],
   "source": [
    "from argparse import Namespace\n",
    "ns = Namespace()\n",
    "ns.option = 'opt'\n",
    "ns.var = 'vari'\n",
    "ns.setting = 'set'\n",
    "print(type(ns))\n",
    "nsd = vars(ns)\n",
    "print(type(nsd))\n",
    "nsd.update(config)\n",
    "#Namespace(**ns)\n",
    "vars(ns)"
   ]
  },
  {
   "cell_type": "code",
   "execution_count": 7,
   "metadata": {},
   "outputs": [
    {
     "data": {
      "text/plain": [
       "array([[291107.6,  53789.1],\n",
       "       [292653.3,  48962.3]])"
      ]
     },
     "execution_count": 7,
     "metadata": {},
     "output_type": "execute_result"
    }
   ],
   "source": [
    "interval = (START.coords[0], END.coords[0])\n",
    "interval = np.array([list(ele) for ele in list(interval)])\n",
    "interval"
   ]
  },
  {
   "cell_type": "code",
   "execution_count": 8,
   "metadata": {},
   "outputs": [
    {
     "data": {
      "text/plain": [
       "array([[291107.6,  53789.1],\n",
       "       [292653.3,  48962.3]])"
      ]
     },
     "execution_count": 8,
     "metadata": {},
     "output_type": "execute_result"
    }
   ],
   "source": [
    "np.array([[START.x, START.y], [END.x ,END.y]])"
   ]
  },
  {
   "cell_type": "code",
   "execution_count": null,
   "metadata": {},
   "outputs": [],
   "source": []
  },
  {
   "cell_type": "code",
   "execution_count": null,
   "metadata": {},
   "outputs": [],
   "source": []
  },
  {
   "cell_type": "code",
   "execution_count": null,
   "metadata": {},
   "outputs": [],
   "source": []
  },
  {
   "cell_type": "code",
   "execution_count": null,
   "metadata": {},
   "outputs": [],
   "source": []
  }
 ],
 "metadata": {
  "kernelspec": {
   "display_name": "Python 3.10.4 ('gp-trajec')",
   "language": "python",
   "name": "python3"
  },
  "language_info": {
   "codemirror_mode": {
    "name": "ipython",
    "version": 3
   },
   "file_extension": ".py",
   "mimetype": "text/x-python",
   "name": "python",
   "nbconvert_exporter": "python",
   "pygments_lexer": "ipython3",
   "version": "3.10.4"
  },
  "orig_nbformat": 4,
  "vscode": {
   "interpreter": {
    "hash": "6b4131eff9800576803c30c9924ab06b817a7d6f0a33f946dd9c7d4b5c5d9e66"
   }
  }
 },
 "nbformat": 4,
 "nbformat_minor": 2
}
