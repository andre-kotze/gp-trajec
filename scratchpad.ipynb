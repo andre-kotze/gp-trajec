{
 "cells": [
  {
   "cell_type": "code",
   "execution_count": 1,
   "metadata": {},
   "outputs": [],
   "source": [
    "import matplotlib.pyplot as plt\n",
    "import numpy as np\n",
    "import pandas\n",
    "import geopandas as gpd\n",
    "import datetime as dt\n",
    "import time\n",
    "\n",
    "from shapely.geometry import MultiPolygon\n",
    "from data.test_data_2d import barriers_2d, pts_2d, example_route, example_space, islas\n",
    "START, END = pts_2d['bc'], pts_2d['tc']"
   ]
  },
  {
   "cell_type": "code",
   "execution_count": 27,
   "metadata": {},
   "outputs": [
    {
     "name": "stdout",
     "output_type": "stream",
     "text": [
      "[[291107.6 292653.3]\n",
      " [ 53789.1  48962.3]]\n"
     ]
    },
    {
     "data": {
      "text/plain": [
       "array([291107.6, 292653.3])"
      ]
     },
     "execution_count": 27,
     "metadata": {},
     "output_type": "execute_result"
    }
   ],
   "source": [
    "i = np.array([[START.x, START.y],[END.x, END.y]])\n",
    "#print(i)\n",
    "print(np.column_stack(i))\n",
    "p,q = np.column_stack(i)\n",
    "p"
   ]
  },
  {
   "cell_type": "code",
   "execution_count": 25,
   "metadata": {},
   "outputs": [
    {
     "data": {
      "text/plain": [
       "{'b': 1, 'x': 5}"
      ]
     },
     "execution_count": 25,
     "metadata": {},
     "output_type": "execute_result"
    }
   ],
   "source": [
    "thing = {'v':None, 'b':1, 'x':5}\n",
    "{k:v for k, v in thing.items() if v}"
   ]
  },
  {
   "cell_type": "code",
   "execution_count": 5,
   "metadata": {},
   "outputs": [
    {
     "name": "stdout",
     "output_type": "stream",
     "text": [
      "dataset:\n",
      "    barriers: clokes\n",
      "    destination: tc\n",
      "    origin: bc\n",
      "defaults:\n",
      "    chunksize: None\n",
      "    cxpb: 0.5\n",
      "    elitism: true\n",
      "    end: 1\n",
      "    hof_size: 3\n",
      "    max_height: 8\n",
      "    max_length: 80\n",
      "    multiproc: imap\n",
      "    mutpb: 0.1\n",
      "    ngen: 250\n",
      "    nsegs: 100\n",
      "    patience: 100\n",
      "    pop_size: 300\n",
      "    seed: 151\n",
      "    start: 0\n",
      "logging:\n",
      "    no_log: false\n",
      "    no_record: false\n",
      "    verbose: false\n",
      "validation:\n",
      "    intersection_cost: intersection**2\n",
      "    invalidity_cost: length*100\n",
      "    no_intersect: true\n",
      "    threshold: 2\n",
      "visualisation:\n",
      "    gif_zoom: 0.15\n",
      "    no_plot: false\n",
      "    save_gif: true\n",
      "    short_gif: true\n",
      "    sol_txt: true\n",
      "\n"
     ]
    }
   ],
   "source": [
    "import yaml\n",
    "from pprint import pformat\n",
    "with open(\"cfg/default.yml\", \"r\") as cfg:\n",
    "    ml_config = yaml.load(cfg, Loader=yaml.FullLoader)\n",
    "    #print(type(config))\n",
    "#s = pformat(config, indent=4, depth=12)\n",
    "print(yaml.dump(dict(ml_config), allow_unicode=True, indent=4))\n",
    "#print(ml_config)"
   ]
  },
  {
   "cell_type": "code",
   "execution_count": 31,
   "metadata": {},
   "outputs": [
    {
     "ename": "ValueError",
     "evalue": "dictionary update sequence element #0 has length 3; 2 is required",
     "output_type": "error",
     "traceback": [
      "\u001b[0;31m---------------------------------------------------------------------------\u001b[0m",
      "\u001b[0;31mValueError\u001b[0m                                Traceback (most recent call last)",
      "Cell \u001b[0;32mIn [31], line 2\u001b[0m\n\u001b[1;32m      1\u001b[0m config \u001b[39m=\u001b[39m {}\n\u001b[0;32m----> 2\u001b[0m config\u001b[39m.\u001b[39;49mupdate(\u001b[39mlist\u001b[39;49m(ml_config\u001b[39m.\u001b[39;49mvalues()))\n\u001b[1;32m      4\u001b[0m \u001b[39m#l_config = {c.key():c.value() for c in ml_config.values()}\u001b[39;00m\n\u001b[1;32m      5\u001b[0m \u001b[39mprint\u001b[39m(Namespace(\u001b[39m*\u001b[39m\u001b[39m*\u001b[39mconfig))\n",
      "\u001b[0;31mValueError\u001b[0m: dictionary update sequence element #0 has length 3; 2 is required"
     ]
    }
   ],
   "source": [
    "config = {}\n",
    "config.update(list(ml_config.values()))\n",
    "    \n",
    "#l_config = {c.key():c.value() for c in ml_config.values()}\n",
    "print(Namespace(**config))"
   ]
  },
  {
   "cell_type": "code",
   "execution_count": 1,
   "metadata": {},
   "outputs": [
    {
     "ename": "TypeError",
     "evalue": "argparse.Namespace() got multiple values for keyword argument 'bar'",
     "output_type": "error",
     "traceback": [
      "\u001b[0;31m---------------------------------------------------------------------------\u001b[0m",
      "\u001b[0;31mTypeError\u001b[0m                                 Traceback (most recent call last)",
      "Cell \u001b[0;32mIn [1], line 8\u001b[0m\n\u001b[1;32m      5\u001b[0m options_bar \u001b[39m=\u001b[39m Namespace(bar\u001b[39m=\u001b[39m\u001b[39m\"\u001b[39m\u001b[39mbar\u001b[39m\u001b[39m\"\u001b[39m)\n\u001b[1;32m      7\u001b[0m \u001b[39m# the merged object\u001b[39;00m\n\u001b[0;32m----> 8\u001b[0m options_baz \u001b[39m=\u001b[39m Namespace(\u001b[39m*\u001b[39m\u001b[39m*\u001b[39m\u001b[39mvars\u001b[39m(options_foo), \u001b[39m*\u001b[39m\u001b[39m*\u001b[39m\u001b[39mvars\u001b[39m(options_bar))\n\u001b[1;32m      9\u001b[0m options_baz\n",
      "\u001b[0;31mTypeError\u001b[0m: argparse.Namespace() got multiple values for keyword argument 'bar'"
     ]
    }
   ],
   "source": [
    "from argparse import Namespace\n",
    "\n",
    "# The 2 initial objects\n",
    "options_foo = Namespace(foo=\"foo\", bar='foo')\n",
    "options_bar = Namespace(bar=\"bar\")\n",
    "\n",
    "# the merged object\n",
    "options_baz = Namespace(**vars(options_foo), **vars(options_bar))\n",
    "options_baz"
   ]
  },
  {
   "cell_type": "code",
   "execution_count": 22,
   "metadata": {},
   "outputs": [
    {
     "name": "stdout",
     "output_type": "stream",
     "text": [
      "<class 'argparse.Namespace'>\n"
     ]
    },
    {
     "ename": "TypeError",
     "evalue": "'NoneType' object is not callable",
     "output_type": "error",
     "traceback": [
      "\u001b[0;31m---------------------------------------------------------------------------\u001b[0m",
      "\u001b[0;31mTypeError\u001b[0m                                 Traceback (most recent call last)",
      "Cell \u001b[0;32mIn [22], line 7\u001b[0m\n\u001b[1;32m      5\u001b[0m ns\u001b[39m.\u001b[39msetting \u001b[39m=\u001b[39m \u001b[39m'\u001b[39m\u001b[39mset\u001b[39m\u001b[39m'\u001b[39m\n\u001b[1;32m      6\u001b[0m \u001b[39mprint\u001b[39m(\u001b[39mtype\u001b[39m(ns))\n\u001b[0;32m----> 7\u001b[0m nsd \u001b[39m=\u001b[39m \u001b[39mvars\u001b[39;49m(ns)\n\u001b[1;32m      8\u001b[0m \u001b[39mprint\u001b[39m(\u001b[39mtype\u001b[39m(nsd))\n\u001b[1;32m      9\u001b[0m nsd\u001b[39m.\u001b[39mupdate(config)\n",
      "\u001b[0;31mTypeError\u001b[0m: 'NoneType' object is not callable"
     ]
    }
   ],
   "source": [
    "from argparse import Namespace\n",
    "ns = Namespace()\n",
    "ns.option = 'opt'\n",
    "ns.var = 'vari'\n",
    "ns.setting = 'set'\n",
    "print(type(ns))\n",
    "nsd = vars(ns)\n",
    "print(type(nsd))\n",
    "nsd.update(config)\n",
    "#Namespace(**ns)\n",
    "vars(ns)"
   ]
  },
  {
   "cell_type": "code",
   "execution_count": 7,
   "metadata": {},
   "outputs": [
    {
     "data": {
      "text/plain": [
       "array([[291107.6,  53789.1],\n",
       "       [292653.3,  48962.3]])"
      ]
     },
     "execution_count": 7,
     "metadata": {},
     "output_type": "execute_result"
    }
   ],
   "source": [
    "interval = (START.coords[0], END.coords[0])\n",
    "interval = np.array([list(ele) for ele in list(interval)])\n",
    "interval"
   ]
  },
  {
   "cell_type": "code",
   "execution_count": 8,
   "metadata": {},
   "outputs": [
    {
     "data": {
      "text/plain": [
       "array([[291107.6,  53789.1],\n",
       "       [292653.3,  48962.3]])"
      ]
     },
     "execution_count": 8,
     "metadata": {},
     "output_type": "execute_result"
    }
   ],
   "source": [
    "np.array([[START.x, START.y], [END.x ,END.y]])"
   ]
  },
  {
   "cell_type": "code",
   "execution_count": null,
   "metadata": {},
   "outputs": [],
   "source": []
  },
  {
   "cell_type": "code",
   "execution_count": null,
   "metadata": {},
   "outputs": [],
   "source": []
  },
  {
   "cell_type": "code",
   "execution_count": null,
   "metadata": {},
   "outputs": [],
   "source": []
  },
  {
   "cell_type": "code",
   "execution_count": null,
   "metadata": {},
   "outputs": [],
   "source": []
  }
 ],
 "metadata": {
  "kernelspec": {
   "display_name": "Python 3.10.4 ('gp-trajec')",
   "language": "python",
   "name": "python3"
  },
  "language_info": {
   "codemirror_mode": {
    "name": "ipython",
    "version": 3
   },
   "file_extension": ".py",
   "mimetype": "text/x-python",
   "name": "python",
   "nbconvert_exporter": "python",
   "pygments_lexer": "ipython3",
   "version": "3.10.4"
  },
  "orig_nbformat": 4,
  "vscode": {
   "interpreter": {
    "hash": "6b4131eff9800576803c30c9924ab06b817a7d6f0a33f946dd9c7d4b5c5d9e66"
   }
  }
 },
 "nbformat": 4,
 "nbformat_minor": 2
}
