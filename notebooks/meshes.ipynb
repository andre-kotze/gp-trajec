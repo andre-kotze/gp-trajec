{
 "cells": [
  {
   "cell_type": "code",
   "execution_count": 2,
   "id": "d3d40f0e",
   "metadata": {},
   "outputs": [
    {
     "ename": "LoadError",
     "evalue": "MethodError: no method matching Primitive(::Point3, ::Point3, ::Point3, ::Point3)",
     "output_type": "error",
     "traceback": [
      "MethodError: no method matching Primitive(::Point3, ::Point3, ::Point3, ::Point3)",
      "",
      "Stacktrace:",
      " [1] top-level scope",
      "   @ In[2]:7",
      " [2] eval",
      "   @ ./boot.jl:368 [inlined]",
      " [3] include_string(mapexpr::typeof(REPL.softscope), mod::Module, code::String, filename::String)",
      "   @ Base ./loading.jl:1428"
     ]
    }
   ],
   "source": [
    "using Meshes\n",
    "\n",
    "a = Point(1.1, 1.1, 1.1)\n",
    "b = Point(1.9, 1.1, 1.1)\n",
    "c = Point(1.1, 1.9, 1.1)\n",
    "d = Point(1.1, 1.1, 1.9)\n",
    "mytetraedron = Primitive(a, b, c, d)\n",
    "typeof(mytetrahedron)"
   ]
  }
 ],
 "metadata": {
  "kernelspec": {
   "display_name": "Julia 1.8.1",
   "language": "julia",
   "name": "julia-1.8"
  },
  "language_info": {
   "file_extension": ".jl",
   "mimetype": "application/julia",
   "name": "julia",
   "version": "1.8.1"
  }
 },
 "nbformat": 4,
 "nbformat_minor": 5
}
