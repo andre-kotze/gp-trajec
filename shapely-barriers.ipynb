{
 "cells": [
  {
   "cell_type": "code",
   "execution_count": 3,
   "metadata": {},
   "outputs": [],
   "source": [
    "import matplotlib.pyplot as plt\n",
    "import numpy as np\n",
    "from shapely.geometry import LineString, Polygon, MultiPolygon"
   ]
  },
  {
   "cell_type": "code",
   "execution_count": 7,
   "metadata": {},
   "outputs": [
    {
     "data": {
      "image/png": "[encoded data removed]",
      "text/plain": [
       "<Figure size 640x480 with 4 Axes>"
      ]
     },
     "metadata": {},
     "output_type": "display_data"
    }
   ],
   "source": [
    "pA = np.array([0,0])\n",
    "pB = np.array([20,20])\n",
    "a, b = [pA[0],pB[0]],[pA[1],pB[1]]\n",
    "\n",
    "# setting the axes at the centre\n",
    "fig, ((ax1, ax2), (ax3, ax4)) = plt.subplots(2, 2)\n",
    "# show points A and B\n",
    "ax1.scatter(a, b)\n",
    "\n",
    "building = Polygon([(0,10),\n",
    "                    (5,10),\n",
    "                    (5,5),\n",
    "                    (0,5)\n",
    "                    ])\n",
    "\n",
    "military = Polygon([(15,10),\n",
    "                    (25,10),\n",
    "                    (25,0)\n",
    "                    ])\n",
    "\n",
    "nofly = Polygon([(0,25),\n",
    "                (15,25),\n",
    "                (15,20),\n",
    "                (0,20)\n",
    "                ])\n",
    "\n",
    "barriers = [building, military, nofly]\n",
    "\n",
    "for barrier in barriers:\n",
    "    plt.plot(*barrier.exterior.xy)\n",
    "\n",
    "for ax in [ax1,ax2,ax3,ax4]:    \n",
    "    ax.set_xlim([-10,25])\n",
    "    ax.set_ylim([-10,25])\n",
    "    ax.set_aspect('equal')\n",
    "plt.show()"
   ]
  },
  {
   "cell_type": "code",
   "execution_count": 21,
   "metadata": {},
   "outputs": [
    {
     "data": {
      "text/plain": [
       "matrix([[4, 6]])"
      ]
     },
     "execution_count": 21,
     "metadata": {},
     "output_type": "execute_result"
    }
   ],
   "source": []
  }
 ],
 "metadata": {
  "kernelspec": {
   "display_name": "Python 3.10.4 ('gp-trajec')",
   "language": "python",
   "name": "python3"
  },
  "language_info": {
   "codemirror_mode": {
    "name": "ipython",
    "version": 3
   },
   "file_extension": ".py",
   "mimetype": "text/x-python",
   "name": "python",
   "nbconvert_exporter": "python",
   "pygments_lexer": "ipython3",
   "version": "3.10.4"
  },
  "orig_nbformat": 4,
  "vscode": {
   "interpreter": {
    "hash": "6b4131eff9800576803c30c9924ab06b817a7d6f0a33f946dd9c7d4b5c5d9e66"
   }
  }
 },
 "nbformat": 4,
 "nbformat_minor": 2
}
